{
 "cells": [
  {
   "cell_type": "code",
   "execution_count": 3,
   "metadata": {},
   "outputs": [
    {
     "name": "stdout",
     "output_type": "stream",
     "text": [
      "Index(['user_id', 'attributes'], dtype='object')\n",
      "                                user_id  \\\n",
      "0      00003e3b9e5336685200ae85d21b4f5e   \n",
      "1      000053b1e684c9e7ea73727b2238ce18   \n",
      "2      00029153d12ae1c9abe59c17ff2e0895   \n",
      "3      0002ac0d783338cfeab0b2bdbd872cda   \n",
      "4      0004d0b59e19461ff126e3a08a814c33   \n",
      "...                                 ...   \n",
      "99995  fffe56994e6be696722539f962415cd2   \n",
      "99996  fffe9f664c2ddba4a37bcd35936c7422   \n",
      "99997  fffee5badc626a2ab8086120712e5639   \n",
      "99998  ffffda8ada4827900cbf65fd20281080   \n",
      "99999  fffffe98d0963d27015c198262d97221   \n",
      "\n",
      "                                              attributes  \n",
      "0      {\"age\": 33, \"gender\": \"F\", \"location\": \"FL\", \"...  \n",
      "1      {\"age\": 26, \"gender\": \"M\", \"location\": \"AL\", \"...  \n",
      "2      {\"age\": 29, \"gender\": \"F\", \"location\": \"AR\", \"...  \n",
      "3      {\"age\": 29, \"gender\": \"M\", \"location\": \"SC\", \"...  \n",
      "4      {\"age\": 27, \"gender\": \"F\", \"location\": \"AR\", \"...  \n",
      "...                                                  ...  \n",
      "99995  {\"age\": 24, \"gender\": \"F\", \"location\": \"FL\", \"...  \n",
      "99996  {\"age\": 31, \"gender\": \"M\", \"location\": \"AL\", \"...  \n",
      "99997  {\"age\": 22, \"gender\": \"M\", \"location\": \"FL\", \"...  \n",
      "99998  {\"age\": 22, \"gender\": \"F\", \"location\": \"TN\", \"...  \n",
      "99999  {\"age\": 18, \"gender\": \"F\", \"location\": \"NC\", \"...  \n",
      "\n",
      "[100000 rows x 2 columns]\n",
      "Total Users:  100000\n"
     ]
    }
   ],
   "source": [
    "# read in the user attributes file\n",
    "import pandas as pd\n",
    "import numpy as np\n",
    "import random\n",
    "\n",
    "from pandas import ExcelWriter\n",
    "from pandas import ExcelFile\n",
    "from matplotlib import pyplot as plt\n",
    "\n",
    "# Read from first Excel File\n",
    "df_user = pd.read_csv('user_attributes.csv')\n",
    "print(df_user.columns)\n",
    "print(df_user)\n",
    "print('Total Users: ', df_user.user_id.nunique())"
   ]
  },
  {
   "cell_type": "code",
   "execution_count": 4,
   "metadata": {},
   "outputs": [],
   "source": [
    "#parse the text column into relevant fields\n",
    "# create empty lists\n",
    "userIDList =[]\n",
    "ageList =[]\n",
    "genderList = []\n",
    "locationList = []\n",
    "testList = []\n",
    "\n",
    "# For loop to create lists and dataframe \n",
    "for i in df_user.index:\n",
    "    userID = df_user['user_id'][i]\n",
    "    userIDList.append(userID)\n",
    "    age = int(df_user['attributes'][i][8:10])\n",
    "    ageList.append(age)\n",
    "    gender = df_user['attributes'][i][23]\n",
    "    genderList.append(gender)\n",
    "    location = df_user['attributes'][i][40:42]\n",
    "    locationList.append(location)\n",
    "    test = int(df_user['attributes'][i][53])\n",
    "    testList.append(test)\n",
    "   # data =[age,gender,location,test]\n",
    "# Done with For Loop\n",
    "\n",
    "\n"
   ]
  },
  {
   "cell_type": "code",
   "execution_count": 5,
   "metadata": {},
   "outputs": [
    {
     "name": "stdout",
     "output_type": "stream",
     "text": [
      "Index(['user_id', 'age', 'gender', 'location', 'test'], dtype='object')\n",
      "                                user_id  age gender location  test\n",
      "0      00003e3b9e5336685200ae85d21b4f5e   33      F       FL     1\n",
      "1      000053b1e684c9e7ea73727b2238ce18   26      M       AL     1\n",
      "2      00029153d12ae1c9abe59c17ff2e0895   29      F       AR     1\n",
      "3      0002ac0d783338cfeab0b2bdbd872cda   29      M       SC     0\n",
      "4      0004d0b59e19461ff126e3a08a814c33   27      F       AR     1\n",
      "...                                 ...  ...    ...      ...   ...\n",
      "99995  fffe56994e6be696722539f962415cd2   24      F       FL     0\n",
      "99996  fffe9f664c2ddba4a37bcd35936c7422   31      M       AL     1\n",
      "99997  fffee5badc626a2ab8086120712e5639   22      M       FL     0\n",
      "99998  ffffda8ada4827900cbf65fd20281080   22      F       TN     1\n",
      "99999  fffffe98d0963d27015c198262d97221   18      F       NC     1\n",
      "\n",
      "[100000 rows x 5 columns]\n"
     ]
    },
    {
     "data": {
      "text/html": [
       "<div>\n",
       "<style scoped>\n",
       "    .dataframe tbody tr th:only-of-type {\n",
       "        vertical-align: middle;\n",
       "    }\n",
       "\n",
       "    .dataframe tbody tr th {\n",
       "        vertical-align: top;\n",
       "    }\n",
       "\n",
       "    .dataframe thead th {\n",
       "        text-align: right;\n",
       "    }\n",
       "</style>\n",
       "<table border=\"1\" class=\"dataframe\">\n",
       "  <thead>\n",
       "    <tr style=\"text-align: right;\">\n",
       "      <th></th>\n",
       "      <th>age</th>\n",
       "      <th>test</th>\n",
       "    </tr>\n",
       "  </thead>\n",
       "  <tbody>\n",
       "    <tr>\n",
       "      <td>count</td>\n",
       "      <td>100000.000000</td>\n",
       "      <td>100000.000000</td>\n",
       "    </tr>\n",
       "    <tr>\n",
       "      <td>mean</td>\n",
       "      <td>25.491430</td>\n",
       "      <td>0.560840</td>\n",
       "    </tr>\n",
       "    <tr>\n",
       "      <td>std</td>\n",
       "      <td>4.602377</td>\n",
       "      <td>0.496287</td>\n",
       "    </tr>\n",
       "    <tr>\n",
       "      <td>min</td>\n",
       "      <td>18.000000</td>\n",
       "      <td>0.000000</td>\n",
       "    </tr>\n",
       "    <tr>\n",
       "      <td>25%</td>\n",
       "      <td>22.000000</td>\n",
       "      <td>0.000000</td>\n",
       "    </tr>\n",
       "    <tr>\n",
       "      <td>50%</td>\n",
       "      <td>25.000000</td>\n",
       "      <td>1.000000</td>\n",
       "    </tr>\n",
       "    <tr>\n",
       "      <td>75%</td>\n",
       "      <td>29.000000</td>\n",
       "      <td>1.000000</td>\n",
       "    </tr>\n",
       "    <tr>\n",
       "      <td>max</td>\n",
       "      <td>33.000000</td>\n",
       "      <td>1.000000</td>\n",
       "    </tr>\n",
       "  </tbody>\n",
       "</table>\n",
       "</div>"
      ],
      "text/plain": [
       "                 age           test\n",
       "count  100000.000000  100000.000000\n",
       "mean       25.491430       0.560840\n",
       "std         4.602377       0.496287\n",
       "min        18.000000       0.000000\n",
       "25%        22.000000       0.000000\n",
       "50%        25.000000       1.000000\n",
       "75%        29.000000       1.000000\n",
       "max        33.000000       1.000000"
      ]
     },
     "execution_count": 5,
     "metadata": {},
     "output_type": "execute_result"
    }
   ],
   "source": [
    "# Create a new data frame from lists\n",
    "df1 = pd.DataFrame(list(zip(userIDList,ageList,genderList,locationList,testList)), columns=['user_id','age', 'gender', 'location', 'test'])\n",
    "print(df1.columns)\n",
    "print(df1)\n",
    "df1.describe()"
   ]
  },
  {
   "cell_type": "code",
   "execution_count": 6,
   "metadata": {},
   "outputs": [],
   "source": [
    "#get some basic histomgrams to view distributions of user attributes\n",
    "import seaborn as sns\n",
    "import matplotlib.pyplot as plt\n",
    "sns.set(style=\"ticks\", color_codes=True)"
   ]
  },
  {
   "cell_type": "code",
   "execution_count": 7,
   "metadata": {},
   "outputs": [
    {
     "data": {
      "image/png": "[encoded data removed]",
      "text/plain": [
       "<Figure size 360x360 with 1 Axes>"
      ]
     },
     "metadata": {},
     "output_type": "display_data"
    }
   ],
   "source": [
    "sns.catplot(x=\"age\", kind=\"count\", palette=\"ch:.25\", data=df1);"
   ]
  },
  {
   "cell_type": "code",
   "execution_count": 8,
   "metadata": {},
   "outputs": [
    {
     "data": {
      "image/png": "[encoded data removed]",
      "text/plain": [
       "<Figure size 360x360 with 1 Axes>"
      ]
     },
     "metadata": {},
     "output_type": "display_data"
    }
   ],
   "source": [
    "sns.catplot(x=\"gender\", kind=\"count\", palette=\"ch:.25\", data=df1);"
   ]
  },
  {
   "cell_type": "code",
   "execution_count": 12,
   "metadata": {},
   "outputs": [
    {
     "data": {
      "image/png": "[encoded data removed]",
      "text/plain": [
       "<Figure size 360x360 with 1 Axes>"
      ]
     },
     "metadata": {},
     "output_type": "display_data"
    }
   ],
   "source": [
    "sns.catplot(x=\"location\", kind=\"count\", palette=\"ch:.25\", data=df1);"
   ]
  },
  {
   "cell_type": "code",
   "execution_count": null,
   "metadata": {},
   "outputs": [],
   "source": []
  },
  {
   "cell_type": "code",
   "execution_count": null,
   "metadata": {},
   "outputs": [],
   "source": []
  },
  {
   "cell_type": "code",
   "execution_count": 13,
   "metadata": {},
   "outputs": [
    {
     "data": {
      "image/png": "[encoded data removed]",
      "text/plain": [
       "<Figure size 360x360 with 1 Axes>"
      ]
     },
     "metadata": {},
     "output_type": "display_data"
    }
   ],
   "source": [
    "sns.catplot(x=\"test\", kind=\"count\", palette=\"ch:.25\", data=df1);"
   ]
  },
  {
   "cell_type": "code",
   "execution_count": 14,
   "metadata": {},
   "outputs": [
    {
     "name": "stdout",
     "output_type": "stream",
     "text": [
      "Index(['timestamp', 'user_id', 'bid', 'win', 'conversion'], dtype='object')\n",
      "                  timestamp                           user_id  bid  win  \\\n",
      "0       2017-01-01 00:00:01  be7485be5b6eb3690efcbc9e95e8f15a    0    0   \n",
      "1       2017-01-01 00:00:02  26c5dca2512a4c7fe8810bd04191b1b3    0    0   \n",
      "2       2017-01-01 00:00:05  2121376a323507c01c5e92c39ae8ccd4    0    0   \n",
      "3       2017-01-01 00:00:12  fa6a0925d911185338b0acc93c66dc92    0    0   \n",
      "4       2017-01-01 00:00:13  4299f209da83da82b711f1d631cc607b    1    0   \n",
      "...                     ...                               ...  ...  ...   \n",
      "599995  2017-01-23 13:19:09  51c3fa97c525c0d22fbc4c5ad9870962    1    1   \n",
      "599996  2017-01-23 13:19:13  b24ba39b66b1201a1bd4ccca14555322    1    0   \n",
      "599997  2017-01-23 13:19:23  ea2621147c2f3912a780587ee03c3889    0    0   \n",
      "599998  2017-01-23 13:19:24  79fc3070bcfc1f4125855692285a3a69    1    1   \n",
      "599999  2017-01-23 13:19:28  dad9375c9bd04516b37e25662b76e0eb    1    0   \n",
      "\n",
      "        conversion  \n",
      "0                0  \n",
      "1                0  \n",
      "2                0  \n",
      "3                0  \n",
      "4                0  \n",
      "...            ...  \n",
      "599995           0  \n",
      "599996           0  \n",
      "599997           0  \n",
      "599998           0  \n",
      "599999           0  \n",
      "\n",
      "[600000 rows x 5 columns]\n"
     ]
    }
   ],
   "source": [
    "#get the bid_request file\n",
    "# Program extracting data from Excel Files \n",
    "import pandas as pd\n",
    "import numpy as np\n",
    "import random\n",
    "\n",
    "from pandas import ExcelWriter\n",
    "from pandas import ExcelFile\n",
    "from matplotlib import pyplot as plt\n",
    "\n",
    "# Read from first Excel File\n",
    "df_bid = pd.read_csv('bid_requests.csv')\n",
    "print(df_bid.columns)\n",
    "print(df_bid)"
   ]
  },
  {
   "cell_type": "code",
   "execution_count": 15,
   "metadata": {},
   "outputs": [
    {
     "name": "stdout",
     "output_type": "stream",
     "text": [
      "Total Users:  63137\n"
     ]
    }
   ],
   "source": [
    "print('Total Users: ', df_bid.user_id.nunique())"
   ]
  },
  {
   "cell_type": "code",
   "execution_count": 16,
   "metadata": {},
   "outputs": [
    {
     "name": "stdout",
     "output_type": "stream",
     "text": [
      "                                  timestamp  bid  win  conversion\n",
      "user_id                                                          \n",
      "00003e3b9e5336685200ae85d21b4f5e         10    7    4           0\n",
      "000053b1e684c9e7ea73727b2238ce18          7    4    0           0\n",
      "00029153d12ae1c9abe59c17ff2e0895          6    1    0           0\n",
      "0002ac0d783338cfeab0b2bdbd872cda          8    2    0           0\n",
      "00053f5e11d1fe4e49a221165b39abc9          9    4    2           0\n",
      "...                                     ...  ...  ...         ...\n",
      "fff75f52998a477f6e7b00e58af8d64a          4    3    1           0\n",
      "fff855cddcd8ab3cc1c1b4958b6c95cd         13    6    1           0\n",
      "fffe56994e6be696722539f962415cd2          6    2    0           0\n",
      "ffffda8ada4827900cbf65fd20281080          4    1    1           0\n",
      "fffffe98d0963d27015c198262d97221          7    2    1           0\n",
      "\n",
      "[63137 rows x 4 columns]\n"
     ]
    }
   ],
   "source": [
    "#Aggregate this table to look at distributions\n",
    "import pandas as pd\n",
    "import dateutil\n",
    "df2 = df_bid.groupby(\n",
    "    ['user_id']\n",
    ").agg(\n",
    "    {\n",
    "        # count the number of timestamps\n",
    "        'timestamp': \"count\",\n",
    "        # how many total bids were made per user\n",
    "        'bid': \"sum\",\n",
    "        # how many total wins there were per user\n",
    "        'win': \"sum\",\n",
    "        # how many total conversions there were per user\n",
    "         'conversion': \"sum\"\n",
    "    }\n",
    ")\n",
    "print(df2)\n"
   ]
  },
  {
   "cell_type": "code",
   "execution_count": 18,
   "metadata": {},
   "outputs": [
    {
     "data": {
      "text/html": [
       "<div>\n",
       "<style scoped>\n",
       "    .dataframe tbody tr th:only-of-type {\n",
       "        vertical-align: middle;\n",
       "    }\n",
       "\n",
       "    .dataframe tbody tr th {\n",
       "        vertical-align: top;\n",
       "    }\n",
       "\n",
       "    .dataframe thead th {\n",
       "        text-align: right;\n",
       "    }\n",
       "</style>\n",
       "<table border=\"1\" class=\"dataframe\">\n",
       "  <thead>\n",
       "    <tr style=\"text-align: right;\">\n",
       "      <th></th>\n",
       "      <th>timestamp</th>\n",
       "      <th>bid</th>\n",
       "      <th>win</th>\n",
       "      <th>conversion</th>\n",
       "    </tr>\n",
       "  </thead>\n",
       "  <tbody>\n",
       "    <tr>\n",
       "      <td>count</td>\n",
       "      <td>63137.000000</td>\n",
       "      <td>63137.000000</td>\n",
       "      <td>63137.000000</td>\n",
       "      <td>63137.000000</td>\n",
       "    </tr>\n",
       "    <tr>\n",
       "      <td>mean</td>\n",
       "      <td>9.503144</td>\n",
       "      <td>4.749054</td>\n",
       "      <td>2.378304</td>\n",
       "      <td>0.096853</td>\n",
       "    </tr>\n",
       "    <tr>\n",
       "      <td>std</td>\n",
       "      <td>5.758926</td>\n",
       "      <td>3.255590</td>\n",
       "      <td>2.026111</td>\n",
       "      <td>0.324366</td>\n",
       "    </tr>\n",
       "    <tr>\n",
       "      <td>min</td>\n",
       "      <td>1.000000</td>\n",
       "      <td>0.000000</td>\n",
       "      <td>0.000000</td>\n",
       "      <td>0.000000</td>\n",
       "    </tr>\n",
       "    <tr>\n",
       "      <td>25%</td>\n",
       "      <td>5.000000</td>\n",
       "      <td>2.000000</td>\n",
       "      <td>1.000000</td>\n",
       "      <td>0.000000</td>\n",
       "    </tr>\n",
       "    <tr>\n",
       "      <td>50%</td>\n",
       "      <td>8.000000</td>\n",
       "      <td>4.000000</td>\n",
       "      <td>2.000000</td>\n",
       "      <td>0.000000</td>\n",
       "    </tr>\n",
       "    <tr>\n",
       "      <td>75%</td>\n",
       "      <td>12.000000</td>\n",
       "      <td>6.000000</td>\n",
       "      <td>3.000000</td>\n",
       "      <td>0.000000</td>\n",
       "    </tr>\n",
       "    <tr>\n",
       "      <td>max</td>\n",
       "      <td>50.000000</td>\n",
       "      <td>28.000000</td>\n",
       "      <td>18.000000</td>\n",
       "      <td>5.000000</td>\n",
       "    </tr>\n",
       "  </tbody>\n",
       "</table>\n",
       "</div>"
      ],
      "text/plain": [
       "          timestamp           bid           win    conversion\n",
       "count  63137.000000  63137.000000  63137.000000  63137.000000\n",
       "mean       9.503144      4.749054      2.378304      0.096853\n",
       "std        5.758926      3.255590      2.026111      0.324366\n",
       "min        1.000000      0.000000      0.000000      0.000000\n",
       "25%        5.000000      2.000000      1.000000      0.000000\n",
       "50%        8.000000      4.000000      2.000000      0.000000\n",
       "75%       12.000000      6.000000      3.000000      0.000000\n",
       "max       50.000000     28.000000     18.000000      5.000000"
      ]
     },
     "execution_count": 18,
     "metadata": {},
     "output_type": "execute_result"
    }
   ],
   "source": [
    "df2.describe()"
   ]
  },
  {
   "cell_type": "code",
   "execution_count": 19,
   "metadata": {},
   "outputs": [
    {
     "data": {
      "image/png": "[encoded data removed]",
      "text/plain": [
       "<Figure size 360x360 with 1 Axes>"
      ]
     },
     "metadata": {},
     "output_type": "display_data"
    }
   ],
   "source": [
    "#looks like there are outliers in the conversion variable\n",
    "#visualize the above variables\n",
    "sns.catplot(x=\"timestamp\", kind=\"count\", palette=\"ch:.25\", data=df2);"
   ]
  },
  {
   "cell_type": "code",
   "execution_count": 24,
   "metadata": {},
   "outputs": [
    {
     "name": "stdout",
     "output_type": "stream",
     "text": [
      "Maximum Time Stamp is 2017-01-23 13:19:28\n",
      "Minimum Time Stamp is 2017-01-01 00:00:01\n"
     ]
    }
   ],
   "source": [
    "print('Maximum Time Stamp is ' +str(max(df_bid.timestamp)))\n",
    "print('Minimum Time Stamp is ' +str(min(df_bid.timestamp)))\n",
    "#all of these attempts happened over 23 days"
   ]
  },
  {
   "cell_type": "code",
   "execution_count": 25,
   "metadata": {},
   "outputs": [
    {
     "data": {
      "image/png": "[encoded data removed]",
      "text/plain": [
       "<Figure size 360x360 with 1 Axes>"
      ]
     },
     "metadata": {},
     "output_type": "display_data"
    }
   ],
   "source": [
    "sns.catplot(x=\"bid\", kind=\"count\", palette=\"ch:.25\", data=df2);"
   ]
  },
  {
   "cell_type": "code",
   "execution_count": 26,
   "metadata": {},
   "outputs": [
    {
     "data": {
      "image/png": "[encoded data removed]",
      "text/plain": [
       "<Figure size 360x360 with 1 Axes>"
      ]
     },
     "metadata": {},
     "output_type": "display_data"
    }
   ],
   "source": [
    "#the above chart tells us that there are most users with 3 bids and there are about 1800 users with no bids at all even though attempts were made\n",
    "\n",
    "sns.catplot(x=\"win\", kind=\"count\", palette=\"ch:.25\", data=df2);"
   ]
  },
  {
   "cell_type": "code",
   "execution_count": 27,
   "metadata": {},
   "outputs": [
    {
     "data": {
      "image/png": "[encoded data removed]",
      "text/plain": [
       "<Figure size 360x360 with 1 Axes>"
      ]
     },
     "metadata": {},
     "output_type": "display_data"
    }
   ],
   "source": [
    "# the above chart tells use that there are more users with one win than there are with other wins\n",
    "#assumption is that once we win the bid, we are able to serve the ad to the user. \n",
    "#So any conversions from the 9K users with 0 wins, any conversions should be only organic conversions \n",
    "#since we didn't serve them an ad\n",
    "sns.catplot(x=\"conversion\", kind=\"count\", palette=\"ch:.25\", data=df2);"
   ]
  },
  {
   "cell_type": "code",
   "execution_count": 34,
   "metadata": {},
   "outputs": [
    {
     "name": "stdout",
     "output_type": "stream",
     "text": [
      "Total Users:  53464\n",
      "First Time Targeting: 53464 ads served, 2091 conversions, 0.039110429447852764 conversion rate.\n",
      "First Retargeting: 96695 ads served, 4024 conversions, 0.041615388592998605 conversion rate.\n"
     ]
    }
   ],
   "source": [
    "#In the absence of a prior conversion history, \n",
    "#assuming that a user with only one win is a first time target and anyone with subsequesnt wins is a retargeted user, \n",
    "#look at conversion rates of first time targets vs retargets\n",
    "df3 = df_bid.sort_values(by='timestamp')\n",
    "seen = set()\n",
    "standardTargeting = []\n",
    "reTargeting = []\n",
    "\n",
    "won = df3[df3.win == 1]\n",
    "for row in won.index:\n",
    "    user_id = won['user_id'][row]\n",
    "    conv = won['conversion'][row]\n",
    "    if user_id in seen:\n",
    "        #We've seen this person\n",
    "        reTargeting.append(conv)\n",
    "    else:\n",
    "        #New User\n",
    "        seen.add(user_id)\n",
    "        standardTargeting.append(conv)\n",
    "\n",
    "print('Total Users: ', won.user_id.nunique())\n",
    "print('First Time Targeting: {} ads served, {} conversions, {} conversion rate.'.format(len(standardTargeting), np.sum(standardTargeting),\n",
    "                                                                        np.mean(standardTargeting)))\n",
    "print('First Retargeting: {} ads served, {} conversions, {} conversion rate.'.format(len(reTargeting), np.sum(reTargeting),\n",
    "                                                                     np.mean(reTargeting)) )"
   ]
  },
  {
   "cell_type": "code",
   "execution_count": 35,
   "metadata": {},
   "outputs": [
    {
     "name": "stdout",
     "output_type": "stream",
     "text": [
      "                                user_id  age gender location  test  timestamp  \\\n",
      "0      00003e3b9e5336685200ae85d21b4f5e   33      F       FL     1         10   \n",
      "1      000053b1e684c9e7ea73727b2238ce18   26      M       AL     1          7   \n",
      "2      00029153d12ae1c9abe59c17ff2e0895   29      F       AR     1          6   \n",
      "3      0002ac0d783338cfeab0b2bdbd872cda   29      M       SC     0          8   \n",
      "4      00053f5e11d1fe4e49a221165b39abc9   31      F       GA     1          9   \n",
      "...                                 ...  ...    ...      ...   ...        ...   \n",
      "63132  fff75f52998a477f6e7b00e58af8d64a   32      M       FL     0          4   \n",
      "63133  fff855cddcd8ab3cc1c1b4958b6c95cd   18      M       GA     0         13   \n",
      "63134  fffe56994e6be696722539f962415cd2   24      F       FL     0          6   \n",
      "63135  ffffda8ada4827900cbf65fd20281080   22      F       TN     1          4   \n",
      "63136  fffffe98d0963d27015c198262d97221   18      F       NC     1          7   \n",
      "\n",
      "       bid  win  conversion  \n",
      "0        7    4           0  \n",
      "1        4    0           0  \n",
      "2        1    0           0  \n",
      "3        2    0           0  \n",
      "4        4    2           0  \n",
      "...    ...  ...         ...  \n",
      "63132    3    1           0  \n",
      "63133    6    1           0  \n",
      "63134    2    0           0  \n",
      "63135    1    1           0  \n",
      "63136    2    1           0  \n",
      "\n",
      "[63137 rows x 9 columns]\n"
     ]
    }
   ],
   "source": [
    "#63K total users in bid requests file - 9K with 0 wins checks out\n",
    "#above results show that retargeted users have a higher conversion rate and they are significant at 99% significance level\n",
    "# answer is that yes, retargeting results in a higher conversion rate\n",
    "# merge the user and bid files to get creative test results. Do an inner join\n",
    "df4 = pd.merge(left=df1, right=df2,left_on='user_id', right_on = 'user_id')\n",
    "print(df4)"
   ]
  },
  {
   "cell_type": "code",
   "execution_count": 37,
   "metadata": {},
   "outputs": [
    {
     "name": "stdout",
     "output_type": "stream",
     "text": [
      "                                user_id  age gender location  test  timestamp  \\\n",
      "0      00003e3b9e5336685200ae85d21b4f5e   33      F       FL     1       10.0   \n",
      "1      000053b1e684c9e7ea73727b2238ce18   26      M       AL     1        7.0   \n",
      "2      00029153d12ae1c9abe59c17ff2e0895   29      F       AR     1        6.0   \n",
      "3      0002ac0d783338cfeab0b2bdbd872cda   29      M       SC     0        8.0   \n",
      "4      0004d0b59e19461ff126e3a08a814c33   27      F       AR     1        NaN   \n",
      "...                                 ...  ...    ...      ...   ...        ...   \n",
      "99995  fffe56994e6be696722539f962415cd2   24      F       FL     0        6.0   \n",
      "99996  fffe9f664c2ddba4a37bcd35936c7422   31      M       AL     1        NaN   \n",
      "99997  fffee5badc626a2ab8086120712e5639   22      M       FL     0        NaN   \n",
      "99998  ffffda8ada4827900cbf65fd20281080   22      F       TN     1        4.0   \n",
      "99999  fffffe98d0963d27015c198262d97221   18      F       NC     1        7.0   \n",
      "\n",
      "       bid  win  conversion  \n",
      "0      7.0  4.0         0.0  \n",
      "1      4.0  0.0         0.0  \n",
      "2      1.0  0.0         0.0  \n",
      "3      2.0  0.0         0.0  \n",
      "4      NaN  NaN         NaN  \n",
      "...    ...  ...         ...  \n",
      "99995  2.0  0.0         0.0  \n",
      "99996  NaN  NaN         NaN  \n",
      "99997  NaN  NaN         NaN  \n",
      "99998  1.0  1.0         0.0  \n",
      "99999  2.0  1.0         0.0  \n",
      "\n",
      "[100000 rows x 9 columns]\n"
     ]
    }
   ],
   "source": [
    "#try and do a left join to see if we can still get conversion rate with null values\n",
    "df5 = df1.merge(df2, on='user_id', how='left')\n",
    "\n",
    "print(df5)"
   ]
  },
  {
   "cell_type": "code",
   "execution_count": 38,
   "metadata": {},
   "outputs": [
    {
     "name": "stdout",
     "output_type": "stream",
     "text": [
      "      user_id  conversion\n",
      "test                     \n",
      "0       43916      2723.0\n",
      "1       56084      3392.0\n"
     ]
    }
   ],
   "source": [
    "df6 = df5.groupby(\n",
    "    ['test']\n",
    ").agg(\n",
    "    {\n",
    "        # count the number of users\n",
    "        'user_id': \"count\",\n",
    "        # how many total conversions were made per user\n",
    "        'conversion': \"sum\",\n",
    "        \n",
    "               \n",
    "          }\n",
    "    \n",
    ")\n",
    "print(df6)"
   ]
  },
  {
   "cell_type": "code",
   "execution_count": 39,
   "metadata": {},
   "outputs": [
    {
     "name": "stdout",
     "output_type": "stream",
     "text": [
      "      user_id  conversion  conversion rate\n",
      "test                                      \n",
      "0       43916      2723.0         0.062005\n",
      "1       56084      3392.0         0.060481\n"
     ]
    }
   ],
   "source": [
    "df6['conversion rate'] = df6['conversion']/df6['user_id']\n",
    "print(df6)"
   ]
  },
  {
   "cell_type": "code",
   "execution_count": 40,
   "metadata": {},
   "outputs": [
    {
     "name": "stdout",
     "output_type": "stream",
     "text": [
      "      user_id  conversion\n",
      "test                     \n",
      "0       27608        2723\n",
      "1       35529        3392\n"
     ]
    }
   ],
   "source": [
    "#the above results show that the control outperformed the test creative directionally - not significant at 90% confidence level\n",
    "# let's look at the comparisons on the inner join table\n",
    "df7 = df4.groupby(\n",
    "    ['test']\n",
    ").agg(\n",
    "    {\n",
    "        # count the number of users\n",
    "        'user_id': \"count\",\n",
    "        # how many total conversions were made per user\n",
    "        'conversion': \"sum\",\n",
    "        \n",
    "               \n",
    "          }\n",
    "    \n",
    ")\n",
    "print(df7)"
   ]
  },
  {
   "cell_type": "code",
   "execution_count": 41,
   "metadata": {},
   "outputs": [
    {
     "name": "stdout",
     "output_type": "stream",
     "text": [
      "      user_id  conversion  conversion rate\n",
      "test                                      \n",
      "0       27608        2723         0.098631\n",
      "1       35529        3392         0.095471\n"
     ]
    }
   ],
   "source": [
    "df7['conversion rate'] = df7['conversion']/df7['user_id']\n",
    "print(df7)"
   ]
  },
  {
   "cell_type": "code",
   "execution_count": null,
   "metadata": {},
   "outputs": [],
   "source": [
    "# if we only consider the users where bids were attempted, the control creative still outperforms the test creative, \n",
    "#but this time at a 90% confidence level\n",
    "#between the left join and inner join, we lost ~16K in the control group and ~20K in the test group\n",
    "# this probably tilted the odds in the favor of the control group, but still the resutls showed that the test creative \n",
    "#underperformed compared to the control creative"
   ]
  }
 ],
 "metadata": {
  "kernelspec": {
   "display_name": "Python 3",
   "language": "python",
   "name": "python3"
  },
  "language_info": {
   "codemirror_mode": {
    "name": "ipython",
    "version": 3
   },
   "file_extension": ".py",
   "mimetype": "text/x-python",
   "name": "python",
   "nbconvert_exporter": "python",
   "pygments_lexer": "ipython3",
   "version": "3.7.4"
  }
 },
 "nbformat": 4,
 "nbformat_minor": 2
}
